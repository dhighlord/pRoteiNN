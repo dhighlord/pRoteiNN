{
  "nbformat": 4,
  "nbformat_minor": 0,
  "metadata": {
    "colab": {
      "name": "pRoteiNN.ipynb",
      "version": "0.3.2",
      "provenance": [],
      "collapsed_sections": [],
      "include_colab_link": true
    },
    "kernelspec": {
      "name": "python3",
      "display_name": "Python 3"
    }
  },
  "cells": [
    {
      "cell_type": "markdown",
      "metadata": {
        "id": "view-in-github",
        "colab_type": "text"
      },
      "source": [
        "<a href=\"https://colab.research.google.com/github/sak1b0/proteiNN/blob/master/pRoteiNN.ipynb\" target=\"_parent\"><img src=\"https://colab.research.google.com/assets/colab-badge.svg\" alt=\"Open In Colab\"/></a>"
      ]
    },
    {
      "metadata": {
        "id": "pjIc0i0r9W8k",
        "colab_type": "code",
        "outputId": "7295c927-9654-4abc-f104-7ba27fb7b126",
        "colab": {
          "base_uri": "https://localhost:8080/",
          "height": 345
        }
      },
      "cell_type": "code",
      "source": [
        "import pandas as pd\n",
        "import numpy as np\n",
        "from sklearn.preprocessing import MultiLabelBinarizer\n",
        "\n",
        "url_train='https://raw.githubusercontent.com/sak1b0/proteiNN/master/train_formatted.csv'\n",
        "url_test='https://raw.githubusercontent.com/sak1b0/proteiNN/master/test_formatted.csv'\n",
        "\n",
        "df_train=pd.read_csv(url_train,header=None)\n",
        "df_test=pd.read_csv(url_test,header=None)\n",
        "\n",
        "\n",
        "one_hot = MultiLabelBinarizer() #finally the ultimate solution\n",
        "\n",
        "df_train=np.asarray(df_train)\n",
        "df_test=np.asarray(df_test)\n",
        "\n",
        "X_train = df_train[:, 0]\n",
        "y_train = df_train[:, 1]\n",
        "\n",
        "X_test = df_test[:, 0]\n",
        "y_test = df_test[:, 1]\n",
        "\n",
        "def debug_me():\n",
        "  print('train dataframe: ',df_train.shape)\n",
        "  print('X train: ',X_train.shape)\n",
        "  print('y train: ',y_train.shape)\n",
        "\n",
        "  print('test dataframe: ',df_test.shape)\n",
        "  print('X test: ',X_test.shape)\n",
        "  print('y test: ',y_test.shape)\n",
        "  \n",
        "\n",
        "debug_me()\n",
        "\n",
        "max_length_train=0\n",
        "for item in range (len(X_train)):\n",
        "  max_length_train=max(max_length_train,len(X_train[item])) #finding maximum length of string in training\n",
        "  \n",
        "  \n",
        "print('Maximum length of train: ',max_length_train)\n",
        "\n",
        "max_length_test=0\n",
        "for item in range (len(X_test)):\n",
        "  max_length_test=max(max_length_test,len(X_test[item])) #finding maximum length of string in testing set\n",
        "  \n",
        "print('Maximum length of test: ',max_length_test)\n",
        "\n",
        "#max_length_train=max(max_length_train,max_length_test)\n",
        "\n",
        "\n",
        "\n",
        "for item in range (len(X_train)):\n",
        "  X_train[item] = X_train[item]+'Z'*(max_length_train-len(X_train[item])) # padding with 'Z' to make all of them the same length\n",
        "  X_train[item] = one_hot.fit_transform(X_train[item])\n",
        "  \n",
        "  \n",
        "for item in range (len(y_train)):\n",
        "  y_train[item] = y_train[item]+'Z'*(max_length_train-len(y_train[item])) # padding with 'Z' to make all of them the same length\n",
        "  y_train[item] = one_hot.fit_transform(y_train[item])\n",
        "  \n",
        "  \n",
        "for item in range (len(X_test)):\n",
        "  X_test[item] = X_test[item]+'Z'*(max_length_train-len(X_test[item])) # padding with 'Z' to make all of them the same length\n",
        "  X_test[item] =one_hot.fit_transform(X_test[item])\n",
        "  \n",
        "  \n",
        "for item in range (len(y_test)):\n",
        "  y_test[item] = y_test[item]+'Z'*(max_length_train-len(y_test[item])) # padding with 'Z' to make all of them the same length  \n",
        "  y_test[item] = one_hot.fit_transform(y_test[item])\n",
        "  \n",
        "  \n",
        "#print(X_train[0])\n",
        "#print(y_train[0])\n",
        "\n",
        "\n",
        "print('\\nafter encoding: \\n')\n",
        "\n",
        "debug_me()\n",
        "print(X_train[0].shape)\n",
        "print(y_train[0].shape)\n",
        "\n"
      ],
      "execution_count": 9,
      "outputs": [
        {
          "output_type": "stream",
          "text": [
            "train dataframe:  (4590, 2)\n",
            "X train:  (4590,)\n",
            "y train:  (4590,)\n",
            "test dataframe:  (1199, 2)\n",
            "X test:  (1199,)\n",
            "y test:  (1199,)\n",
            "Maximum length of train:  1303\n",
            "Maximum length of test:  1247\n",
            "\n",
            "after encoding: \n",
            "\n",
            "train dataframe:  (4590, 2)\n",
            "X train:  (4590,)\n",
            "y train:  (4590,)\n",
            "test dataframe:  (1199, 2)\n",
            "X test:  (1199,)\n",
            "y test:  (1199,)\n",
            "(1303, 21)\n",
            "(1303, 5)\n"
          ],
          "name": "stdout"
        }
      ]
    }
  ]
}