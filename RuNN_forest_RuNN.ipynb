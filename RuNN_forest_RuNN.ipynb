{
  "nbformat": 4,
  "nbformat_minor": 0,
  "metadata": {
    "colab": {
      "name": "RuNN_forest_RuNN.ipynb",
      "version": "0.3.2",
      "provenance": [],
      "include_colab_link": true
    },
    "kernelspec": {
      "name": "python3",
      "display_name": "Python 3"
    },
    "accelerator": "GPU"
  },
  "cells": [
    {
      "cell_type": "markdown",
      "metadata": {
        "id": "view-in-github",
        "colab_type": "text"
      },
      "source": [
        "<a href=\"https://colab.research.google.com/github/sak1b0/proteiNN/blob/master/RuNN_forest_RuNN.ipynb\" target=\"_parent\"><img src=\"https://colab.research.google.com/assets/colab-badge.svg\" alt=\"Open In Colab\"/></a>"
      ]
    },
    {
      "metadata": {
        "id": "4a1dlMc4b47Y",
        "colab_type": "code",
        "outputId": "08dd12b2-db7b-422f-e181-13c673e17121",
        "colab": {
          "base_uri": "https://localhost:8080/",
          "height": 1054
        }
      },
      "cell_type": "code",
      "source": [
        "from keras.models import Sequential\n",
        "from keras.layers import Dense\n",
        "from keras.layers import LSTM\n",
        "import pandas as pd\n",
        "import numpy as np\n",
        "from sklearn.preprocessing import MultiLabelBinarizer\n",
        "import matplotlib.pyplot as plt\n",
        "\n",
        "url_train='https://raw.githubusercontent.com/sak1b0/proteiNN/master/train_formatted.csv'\n",
        "url_test='https://raw.githubusercontent.com/sak1b0/proteiNN/master/test_formatted.csv'\n",
        "\n",
        "df_train=pd.read_csv(url_train,header=None)\n",
        "df_test=pd.read_csv(url_test,header=None)\n",
        "\n",
        "\n",
        "one_hot = MultiLabelBinarizer() #finally the ultimate solution\n",
        "\n",
        "df_train=np.asarray(df_train)\n",
        "df_test=np.asarray(df_test)\n",
        "\n",
        "X_train = df_train[:, 0]\n",
        "y_train = df_train[:, 1]\n",
        "\n",
        "X_test = df_test[:, 0]\n",
        "y_test = df_test[:, 1]\n",
        "\n",
        "def debug_me():\n",
        "  print('train dataframe: ',df_train.shape)\n",
        "  print('X train shape: ',X_train.shape)\n",
        "  print('y train shape: ',y_train.shape)\n",
        "\n",
        "  print('test dataframe: ',df_test.shape)\n",
        "  print('X test shape: ',X_test.shape)\n",
        "  print('y test shape: ',y_test.shape)\n",
        "  \n",
        "\n",
        "debug_me()\n",
        "\n",
        "max_length_train=0\n",
        "for item in range (len(X_train)):\n",
        "  max_length_train=max(max_length_train,len(X_train[item])) #finding maximum length of string in training\n",
        "  \n",
        "  \n",
        "print('Maximum length of train: ',max_length_train)\n",
        "\n",
        "max_length_test=0\n",
        "for item in range (len(X_test)):\n",
        "  max_length_test=max(max_length_test,len(X_test[item])) #finding maximum length of string in testing set\n",
        "  \n",
        "print('Maximum length of test: ',max_length_test)\n",
        "\n",
        "#max_length_train=max(max_length_train,max_length_test)\n",
        "\n",
        "\n",
        "\n",
        "for item in range (len(X_train)):\n",
        "  X_train[item] = X_train[item]+'Z'*(max_length_train-len(X_train[item])) # padding with 'Z' to make all of them the same length\n",
        "  #X_train[item] = one_hot.fit_transform(X_train[item])\n",
        "  \n",
        "  \n",
        "for item in range (len(y_train)):\n",
        "  y_train[item] = y_train[item]+'Z'*(max_length_train-len(y_train[item])) # padding with 'Z' to make all of them the same length\n",
        "  #y_train[item] = one_hot.fit_transform(y_train[item])\n",
        "  \n",
        "  \n",
        "for item in range (len(X_test)):\n",
        "  X_test[item] = X_test[item]+'Z'*(max_length_train-len(X_test[item])) # padding with 'Z' to make all of them the same length\n",
        "  #X_test[item] =one_hot.fit_transform(X_test[item])\n",
        "  \n",
        "  \n",
        "for item in range (len(y_test)):\n",
        "  y_test[item] = y_test[item]+'Z'*(max_length_train-len(y_test[item])) # padding with 'Z' to make all of them the same length  \n",
        "  #y_test[item] = one_hot.fit_transform(y_test[item])\n",
        "  \n",
        "  \n",
        "#print(X_train[0])\n",
        "#print(y_train[0])\n",
        "\n",
        "\n",
        "print('\\nafter padding: \\n')\n",
        "\n",
        "debug_me()\n",
        "#print(X_train[0])\n",
        "#print(y_train[0])\n",
        "\n",
        "\n",
        "#encoding to integer of X_train\n",
        "s=list(X_train)\n",
        "\n",
        "for item in range(len(s)):\n",
        "  s[item]=list(s[item])\n",
        "  \n",
        "for i in range(len(s)):\n",
        "  for item in range(len(s[i])):\n",
        "    s[i][item]=ord(s[i][item])-64\n",
        "X_train=np.array(s).reshape(4590, 1,1303 )\n",
        "\n",
        "#encoding to integer of y_train\n",
        "\n",
        "s=list(y_train)\n",
        "\n",
        "for item in range(len(s)):\n",
        "  s[item]=list(s[item])\n",
        "  \n",
        "for i in range(len(s)):\n",
        "  for item in range(len(s[i])):\n",
        "    s[i][item]=ord(s[i][item])-64\n",
        "y_train=np.array(s).reshape(4590, 1, 1303)\n",
        "\n",
        "#encoding to integer of X_test\n",
        "\n",
        "s=list(X_test)\n",
        "\n",
        "for item in range(len(s)):\n",
        "  s[item]=list(s[item])\n",
        "  \n",
        "for i in range(len(s)):\n",
        "  for item in range(len(s[i])):\n",
        "    s[i][item]=ord(s[i][item])-64\n",
        "X_test=np.array(s).reshape(1199, 1, 1303)\n",
        "\n",
        "#encoding to integer of y_test\n",
        "\n",
        "s=list(y_test)\n",
        "\n",
        "for item in range(len(s)):\n",
        "  s[item]=list(s[item])\n",
        "  \n",
        "for i in range(len(s)):\n",
        "  for item in range(len(s[i])):\n",
        "    s[i][item]=ord(s[i][item])-64\n",
        "y_test=np.array(s).reshape(1199, 1, 1303)\n",
        "\n",
        "print('\\nafter encoding to integers\\n')\n",
        "debug_me()\n",
        "\n",
        "display(X_train[0])\n",
        "\n",
        "X_train=X_train/26\n",
        "y_train=y_train/26\n",
        "X_test=X_test/26\n",
        "y_test=y_test/26\n",
        "\n",
        "display(X_train[0])\n",
        "#=======================this is where the fun part begins====================\n",
        "\n",
        "outp=1303\n",
        "model=Sequential()\n",
        "\n",
        "model.add(LSTM((1303),input_shape=(1,1303),return_sequences=True,activation='sigmoid'))\n",
        "\n",
        "\n",
        "model.compile(loss='binary_crossentropy',optimizer='rmsprop',metrics=['accuracy'])\n",
        "\n",
        "model.summary()\n",
        "\n",
        "print(model.input_shape)\n",
        "print(model.output_shape)\n",
        "\n",
        "history=model.fit(X_train,y_train,epochs=10,validation_data=(X_test,y_test))\n",
        "\n",
        "\n",
        "\n"
      ],
      "execution_count": 9,
      "outputs": [
        {
          "output_type": "stream",
          "text": [
            "train dataframe:  (4590, 2)\n",
            "X train shape:  (4590,)\n",
            "y train shape:  (4590,)\n",
            "test dataframe:  (1199, 2)\n",
            "X test shape:  (1199,)\n",
            "y test shape:  (1199,)\n",
            "Maximum length of train:  1303\n",
            "Maximum length of test:  1247\n",
            "\n",
            "after padding: \n",
            "\n",
            "train dataframe:  (4590, 2)\n",
            "X train shape:  (4590,)\n",
            "y train shape:  (4590,)\n",
            "test dataframe:  (1199, 2)\n",
            "X test shape:  (1199,)\n",
            "y test shape:  (1199,)\n",
            "\n",
            "after encoding to integers\n",
            "\n",
            "train dataframe:  (4590, 2)\n",
            "X train shape:  (4590, 1, 1303)\n",
            "y train shape:  (4590, 1, 1303)\n",
            "test dataframe:  (1199, 2)\n",
            "X test shape:  (1199, 1, 1303)\n",
            "y test shape:  (1199, 1, 1303)\n"
          ],
          "name": "stdout"
        },
        {
          "output_type": "display_data",
          "data": {
            "text/plain": [
              "array([[18, 20, 14, ..., 26, 26, 26]])"
            ]
          },
          "metadata": {
            "tags": []
          }
        },
        {
          "output_type": "display_data",
          "data": {
            "text/plain": [
              "array([[0.69230769, 0.76923077, 0.53846154, ..., 1.        , 1.        ,\n",
              "        1.        ]])"
            ]
          },
          "metadata": {
            "tags": []
          }
        },
        {
          "output_type": "stream",
          "text": [
            "_________________________________________________________________\n",
            "Layer (type)                 Output Shape              Param #   \n",
            "=================================================================\n",
            "lstm_20 (LSTM)               (None, 1, 1303)           13587684  \n",
            "=================================================================\n",
            "Total params: 13,587,684\n",
            "Trainable params: 13,587,684\n",
            "Non-trainable params: 0\n",
            "_________________________________________________________________\n",
            "(None, 1, 1303)\n",
            "(None, 1, 1303)\n",
            "Train on 4590 samples, validate on 1199 samples\n",
            "Epoch 1/10\n",
            "4590/4590 [==============================] - 6s 1ms/step - loss: 0.3997 - acc: 0.8086 - val_loss: 0.3818 - val_acc: 0.8192\n",
            "Epoch 2/10\n",
            "4590/4590 [==============================] - 3s 545us/step - loss: 0.3779 - acc: 0.8162 - val_loss: 0.3770 - val_acc: 0.8196\n",
            "Epoch 3/10\n",
            "4590/4590 [==============================] - 3s 547us/step - loss: 0.3740 - acc: 0.8166 - val_loss: 0.3732 - val_acc: 0.8195\n",
            "Epoch 4/10\n",
            "4590/4590 [==============================] - 2s 542us/step - loss: 0.3720 - acc: 0.8166 - val_loss: 0.3724 - val_acc: 0.8194\n",
            "Epoch 5/10\n",
            "4590/4590 [==============================] - 3s 548us/step - loss: 0.3708 - acc: 0.8167 - val_loss: 0.3717 - val_acc: 0.8195\n",
            "Epoch 6/10\n",
            "4590/4590 [==============================] - 3s 546us/step - loss: 0.3701 - acc: 0.8167 - val_loss: 0.3712 - val_acc: 0.8190\n",
            "Epoch 7/10\n",
            "4590/4590 [==============================] - 3s 552us/step - loss: 0.3694 - acc: 0.8168 - val_loss: 0.3712 - val_acc: 0.8202\n",
            "Epoch 8/10\n",
            "4590/4590 [==============================] - 3s 548us/step - loss: 0.3690 - acc: 0.8168 - val_loss: 0.3708 - val_acc: 0.8191\n",
            "Epoch 9/10\n",
            "4590/4590 [==============================] - 3s 548us/step - loss: 0.3684 - acc: 0.8170 - val_loss: 0.3685 - val_acc: 0.8201\n",
            "Epoch 10/10\n",
            "4590/4590 [==============================] - 3s 546us/step - loss: 0.3682 - acc: 0.8167 - val_loss: 0.3704 - val_acc: 0.8201\n"
          ],
          "name": "stdout"
        }
      ]
    },
    {
      "metadata": {
        "id": "DwmelY6_5TTI",
        "colab_type": "code",
        "outputId": "50448ec4-37d0-49e3-f682-4fce67ee7495",
        "colab": {
          "base_uri": "https://localhost:8080/",
          "height": 773
        }
      },
      "cell_type": "code",
      "source": [
        "plt.plot(history.history['loss'],label='training loss')\n",
        "plt.show()\n",
        "plt.plot(history.history['acc'])\n",
        "plt.show()\n",
        "plt.plot(history.history['val_acc'])\n",
        "plt.show()"
      ],
      "execution_count": 8,
      "outputs": [
        {
          "output_type": "display_data",
          "data": {
            "image/png": "[encoded data removed]",
            "text/plain": [
              "<Figure size 432x288 with 1 Axes>"
            ]
          },
          "metadata": {
            "tags": []
          }
        },
        {
          "output_type": "display_data",
          "data": {
            "image/png": "[encoded data removed]",
            "text/plain": [
              "<Figure size 432x288 with 1 Axes>"
            ]
          },
          "metadata": {
            "tags": []
          }
        },
        {
          "output_type": "display_data",
          "data": {
            "image/png": "[encoded data removed]",
            "text/plain": [
              "<Figure size 432x288 with 1 Axes>"
            ]
          },
          "metadata": {
            "tags": []
          }
        }
      ]
    }
  ]
}