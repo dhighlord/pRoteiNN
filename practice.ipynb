{
  "nbformat": 4,
  "nbformat_minor": 0,
  "metadata": {
    "colab": {
      "name": "practice.ipynb",
      "version": "0.3.2",
      "provenance": [],
      "include_colab_link": true
    },
    "kernelspec": {
      "name": "python3",
      "display_name": "Python 3"
    }
  },
  "cells": [
    {
      "cell_type": "markdown",
      "metadata": {
        "id": "view-in-github",
        "colab_type": "text"
      },
      "source": [
        "<a href=\"https://colab.research.google.com/github/sak1b0/proteiNN/blob/master/practice.ipynb\" target=\"_parent\"><img src=\"https://colab.research.google.com/assets/colab-badge.svg\" alt=\"Open In Colab\"/></a>"
      ]
    },
    {
      "metadata": {
        "id": "7UEoDsBTAyYv",
        "colab_type": "code",
        "outputId": "ee08cad6-f378-4edd-f16c-b0843bc56d72",
        "colab": {
          "base_uri": "https://localhost:8080/",
          "height": 90
        }
      },
      "cell_type": "code",
      "source": [
        "s1='shovon'\n",
        "max_len=10\n",
        "s1=s1+'z'*(max_len-len(s1))\n",
        "print(s1)\n",
        "\n",
        "import pandas as pd\n",
        "import numpy as np\n",
        "\n",
        "url_train='https://raw.githubusercontent.com/sak1b0/proteiNN/master/train_formatted.csv'\n",
        "url_test='https://raw.githubusercontent.com/sak1b0/proteiNN/master/test_formatted.csv'\n",
        "\n",
        "df_train=pd.read_csv(url_train,header=None)\n",
        "df_test=pd.read_csv(url_test,header=None)\n",
        "\n",
        "\n",
        "df_train=np.asarray(df_train)\n",
        "df_test=np.asarray(df_test)\n",
        "\n",
        "X_train = df_train[:,0]\n",
        "y_train = df_train[:,1]\n",
        "print(X_train[0])\n",
        "print(y_train[0])\n"
      ],
      "execution_count": 4,
      "outputs": [
        {
          "output_type": "stream",
          "text": [
            "shovonzzzz\n",
            "RTNQAGLELIGNAEGCRRDPYMCPAGVWTDGIGNTHGVTPGVRKTDQQIAADWEKNILIAERCINQHFRGKDMPDNAFSAMTSAAFNMGCNSLRTYYSKARGMRVETSIHKWAQKGEWVNMCNHLPDFVNSNGVPLRGLKIRREKERQLCLTGLVNEHHHHHH\n",
            "CCCHHHHHHHCCHHHHHHCHHHCCHHHCCCCCCCXXCCCCCCCCCHHHHHHHHHHHHHHHHHHHHHHCCHHHCCHHHHHHHHHHHHHHCHHHHHEEEECCCCEEEECHHHHHHHCCCHHHHHHCHHHCCEECCEECHHHHHHHHHHHHHHHCCCCCCXXXXXC\n"
          ],
          "name": "stdout"
        }
      ]
    }
  ]
}