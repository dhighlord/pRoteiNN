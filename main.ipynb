{
  "nbformat": 4,
  "nbformat_minor": 0,
  "metadata": {
    "colab": {
      "name": "main.ipynb",
      "version": "0.3.2",
      "provenance": [],
      "collapsed_sections": [],
      "include_colab_link": true
    },
    "kernelspec": {
      "name": "python3",
      "display_name": "Python 3"
    }
  },
  "cells": [
    {
      "cell_type": "markdown",
      "metadata": {
        "id": "view-in-github",
        "colab_type": "text"
      },
      "source": [
        "<a href=\"https://colab.research.google.com/github/dhighlord/proteiNN/blob/master/main.ipynb\" target=\"_parent\"><img src=\"https://colab.research.google.com/assets/colab-badge.svg\" alt=\"Open In Colab\"/></a>"
      ]
    },
    {
      "cell_type": "code",
      "metadata": {
        "id": "Hmd1iyrebXc6",
        "colab_type": "code",
        "outputId": "b903393d-d7b5-42dc-89c0-ecebb7256155",
        "colab": {
          "base_uri": "https://localhost:8080/",
          "height": 54
        }
      },
      "source": [
        "import pandas as pd\n",
        "import numpy as np\n",
        "import matplotlib.pyplot as plt\n",
        "\n",
        "df_train=np.asarray(pd.read_csv(\"https://raw.githubusercontent.com/dhighlord/proteiNN/master/train.csv\",header=None))\n",
        "df_test=np.asarray(pd.read_csv(\"https://raw.githubusercontent.com/dhighlord/proteiNN/master/test.csv\",header=None))\n",
        "\n",
        "x_train = df_train[:,0]\n",
        "y_train = df_train[:,1]\n",
        "\n",
        "x_test = df_test[:,0]\n",
        "y_test = df_test[:,1]\n",
        "\n",
        "###########################################\n",
        "n = x_train\n",
        "j=-1\n",
        "\n",
        "for i in x_train:\n",
        "  j=j+1\n",
        "  if(len(i)>400):\n",
        "    n = np.delete(n, j)\n",
        "    j=j-1\n",
        "\n",
        "x_train = n\n",
        "###########################################\n",
        "n = y_train\n",
        "j=-1\n",
        "\n",
        "for i in y_train:\n",
        "  j=j+1\n",
        "  if(len(i)>400):\n",
        "    n = np.delete(n, j)\n",
        "    j=j-1\n",
        "\n",
        "y_train = n\n",
        "###########################################\n",
        "n = x_test\n",
        "j=-1\n",
        "\n",
        "for i in x_test:\n",
        "  j=j+1\n",
        "  if(len(i)>400):\n",
        "    n = np.delete(n, j)\n",
        "    j=j-1\n",
        "\n",
        "x_test = n\n",
        "###########################################\n",
        "n = y_test\n",
        "j=-1\n",
        "\n",
        "for i in y_test:\n",
        "  j=j+1\n",
        "  if(len(i)>400):\n",
        "    n = np.delete(n, j)\n",
        "    j=j-1\n",
        "\n",
        "y_test = n\n",
        "###########################################\n",
        "\n",
        "\n",
        "max_len = max([len(i) for i in x_train])\n",
        "print(max_len)\n",
        "\n",
        "max_len = max([len(i) for i in y_test])\n",
        "print(max_len)"
      ],
      "execution_count": 41,
      "outputs": [
        {
          "output_type": "stream",
          "text": [
            "400\n",
            "400\n"
          ],
          "name": "stdout"
        }
      ]
    },
    {
      "cell_type": "code",
      "metadata": {
        "id": "mC5xLp4MdAtQ",
        "colab_type": "code",
        "colab": {}
      },
      "source": [
        ""
      ],
      "execution_count": 0,
      "outputs": []
    }
  ]
}