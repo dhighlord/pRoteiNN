{
  "nbformat": 4,
  "nbformat_minor": 0,
  "metadata": {
    "colab": {
      "name": "encoding_issue.ipynb",
      "version": "0.3.2",
      "provenance": [],
      "include_colab_link": true
    },
    "kernelspec": {
      "name": "python3",
      "display_name": "Python 3"
    }
  },
  "cells": [
    {
      "cell_type": "markdown",
      "metadata": {
        "id": "view-in-github",
        "colab_type": "text"
      },
      "source": [
        "<a href=\"https://colab.research.google.com/github/sak1b0/proteiNN/blob/master/encoding_issue.ipynb\" target=\"_parent\"><img src=\"https://colab.research.google.com/assets/colab-badge.svg\" alt=\"Open In Colab\"/></a>"
      ]
    },
    {
      "metadata": {
        "id": "jhjw-1VKdxIw",
        "colab_type": "code",
        "colab": {
          "base_uri": "https://localhost:8080/",
          "height": 311
        },
        "outputId": "8d4dfaa9-6eac-4ca0-e303-e54fa6a7c89d"
      },
      "cell_type": "code",
      "source": [
        "import pandas as pd\n",
        "from sklearn.preprocessing import MultiLabelBinarizer\n",
        "enc = MultiLabelBinarizer()\n",
        "\n",
        "dummy=['aabcdefgh','chxchxchx']\n",
        "\n",
        "for item in range(len(dummy)):\n",
        "  dummy[item]=enc.fit_transform(dummy[item])\n",
        " \n",
        "print(dummy)"
      ],
      "execution_count": 8,
      "outputs": [
        {
          "output_type": "stream",
          "text": [
            "[array([[1, 0, 0, 0, 0, 0, 0, 0],\n",
            "       [1, 0, 0, 0, 0, 0, 0, 0],\n",
            "       [0, 1, 0, 0, 0, 0, 0, 0],\n",
            "       [0, 0, 1, 0, 0, 0, 0, 0],\n",
            "       [0, 0, 0, 1, 0, 0, 0, 0],\n",
            "       [0, 0, 0, 0, 1, 0, 0, 0],\n",
            "       [0, 0, 0, 0, 0, 1, 0, 0],\n",
            "       [0, 0, 0, 0, 0, 0, 1, 0],\n",
            "       [0, 0, 0, 0, 0, 0, 0, 1]]), array([[1, 0, 0],\n",
            "       [0, 1, 0],\n",
            "       [0, 0, 1],\n",
            "       [1, 0, 0],\n",
            "       [0, 1, 0],\n",
            "       [0, 0, 1],\n",
            "       [1, 0, 0],\n",
            "       [0, 1, 0],\n",
            "       [0, 0, 1]])]\n"
          ],
          "name": "stdout"
        }
      ]
    }
  ]
}